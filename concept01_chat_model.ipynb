{
 "cells": [
  {
   "cell_type": "markdown",
   "metadata": {},
   "source": [
    "# Concept 01: Chat Model\n",
    "\n",
    "> Watch Video from 6:00 to 6:58 \n",
    "\n",
    "> https://www.youtube.com/watch?v=aywZrzNaKjs"
   ]
  },
  {
   "cell_type": "code",
   "execution_count": 1,
   "metadata": {},
   "outputs": [
    {
     "data": {
      "text/plain": [
       "True"
      ]
     },
     "execution_count": 1,
     "metadata": {},
     "output_type": "execute_result"
    }
   ],
   "source": [
    "# Load environment variables\n",
    "# https://github.com/theskumar/python-dotenv\n",
    "\n",
    "from dotenv import load_dotenv,find_dotenv\n",
    "load_dotenv(find_dotenv())"
   ]
  },
  {
   "cell_type": "code",
   "execution_count": 2,
   "metadata": {},
   "outputs": [],
   "source": [
    "# import schema for chat messages and ChatOpenAI in order to query chatmodels GPT-3.5-turbo or GPT-4\n",
    "\n",
    "from langchain.schema import (\n",
    "    AIMessage,\n",
    "    HumanMessage,\n",
    "    SystemMessage\n",
    ")\n",
    "from langchain.chat_models import ChatOpenAI"
   ]
  },
  {
   "cell_type": "markdown",
   "metadata": {},
   "source": [
    "Temperature ranges from 0 to 1.\n",
    "\n",
    "Low temperature (0 to 0.3): More focused, coherent, and conservative outputs. \n",
    "\n",
    "Medium temperature (0.3 to 0.7): Balanced creativity and coherence. \n",
    "\n",
    "High temperature (0.7 to 1): Highly creative and diverse, but potentially less coherent."
   ]
  },
  {
   "cell_type": "code",
   "execution_count": 3,
   "metadata": {},
   "outputs": [
    {
     "name": "stdout",
     "output_type": "stream",
     "text": [
      "Sure! Here's an example of a Python script that trains a neural network on simulated data using the Keras library:\n",
      "\n",
      "```python\n",
      "import numpy as np\n",
      "from keras.models import Sequential\n",
      "from keras.layers import Dense\n",
      "\n",
      "# Generate simulated data\n",
      "np.random.seed(0)\n",
      "X = np.random.rand(100, 2)\n",
      "y = np.random.randint(2, size=100)\n",
      "\n",
      "# Create a neural network model\n",
      "model = Sequential()\n",
      "model.add(Dense(10, input_dim=2, activation='relu'))\n",
      "model.add(Dense(1, activation='sigmoid'))\n",
      "\n",
      "# Compile the model\n",
      "model.compile(loss='binary_crossentropy', optimizer='adam', metrics=['accuracy'])\n",
      "\n",
      "# Train the model\n",
      "model.fit(X, y, epochs=100, batch_size=10)\n",
      "\n",
      "# Evaluate the model\n",
      "loss, accuracy = model.evaluate(X, y)\n",
      "print(f\"Loss: {loss}\")\n",
      "print(f\"Accuracy: {accuracy}\")\n",
      "```\n",
      "\n",
      "In this script, we first generate simulated data using `numpy.random.rand` and `numpy.random.randint`. We then create a sequential model using `keras.models.Sequential` and add two dense layers using `keras.layers.Dense`. The first dense layer has 10 units and uses the ReLU activation function, while the second dense layer has 1 unit and uses the sigmoid activation function.\n",
      "\n",
      "We compile the model using `model.compile`, specifying the loss function as `binary_crossentropy`, the optimizer as `adam`, and the metric as `accuracy`. We then train the model using `model.fit`, passing in the simulated data `X` and `y`, the number of epochs, and the batch size.\n",
      "\n",
      "Finally, we evaluate the trained model using `model.evaluate` and print the loss and accuracy.\n"
     ]
    }
   ],
   "source": [
    "# Read: https://platform.openai.com/docs/models/overview\n",
    "\n",
    "chat = ChatOpenAI(model_name=\"gpt-3.5-turbo\",temperature=0.3)\n",
    "messages = [\n",
    "    SystemMessage(content=\"You are an expert data scientist\"),\n",
    "    HumanMessage(content=\"Write a Python script that trains a neural network on simulated data \")\n",
    "]\n",
    "response=chat(messages)\n",
    "\n",
    "print(response.content,end='\\n')"
   ]
  }
 ],
 "metadata": {
  "kernelspec": {
   "display_name": "base",
   "language": "python",
   "name": "python3"
  },
  "language_info": {
   "codemirror_mode": {
    "name": "ipython",
    "version": 3
   },
   "file_extension": ".py",
   "mimetype": "text/x-python",
   "name": "python",
   "nbconvert_exporter": "python",
   "pygments_lexer": "ipython3",
   "version": "3.11.5"
  }
 },
 "nbformat": 4,
 "nbformat_minor": 2
}
