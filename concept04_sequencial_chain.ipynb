{
 "cells": [
  {
   "cell_type": "markdown",
   "metadata": {},
   "source": [
    "# Concept 04: Sequencial Chains\n",
    "\n",
    "> Watch Video from 8:00 to 8:59\n",
    "\n",
    "> https://www.youtube.com/watch?v=aywZrzNaKjs"
   ]
  },
  {
   "cell_type": "code",
   "execution_count": 1,
   "metadata": {},
   "outputs": [
    {
     "data": {
      "text/plain": [
       "True"
      ]
     },
     "execution_count": 1,
     "metadata": {},
     "output_type": "execute_result"
    }
   ],
   "source": [
    "# Load environment variables\n",
    "# https://github.com/theskumar/python-dotenv\n",
    "\n",
    "from dotenv import load_dotenv,find_dotenv\n",
    "load_dotenv(find_dotenv())"
   ]
  },
  {
   "cell_type": "code",
   "execution_count": 2,
   "metadata": {},
   "outputs": [],
   "source": [
    "from langchain.llms import OpenAI\n",
    "llm = OpenAI(model_name=\"text-davinci-003\")"
   ]
  },
  {
   "cell_type": "code",
   "execution_count": 3,
   "metadata": {},
   "outputs": [],
   "source": [
    "# Import prompt and define the first prompt\n",
    "\n",
    "from langchain import PromptTemplate\n",
    "\n",
    "template = \"\"\"\n",
    "You are an expert data scientist with an expertise in building deep learning models. \n",
    "Explain the concept of {concept} in a couple of lines\n",
    "\"\"\"\n",
    "\n",
    "prompt = PromptTemplate(\n",
    "    input_variables=[\"concept\"],\n",
    "    template=template,\n",
    ")"
   ]
  },
  {
   "cell_type": "code",
   "execution_count": 4,
   "metadata": {},
   "outputs": [],
   "source": [
    "# Define the first chain\n",
    "\n",
    "from langchain.chains import LLMChain\n",
    "chain = LLMChain(llm=llm, prompt=prompt)"
   ]
  },
  {
   "cell_type": "code",
   "execution_count": 5,
   "metadata": {},
   "outputs": [],
   "source": [
    "# Define a second prompt \n",
    "\n",
    "second_prompt = PromptTemplate(\n",
    "    input_variables=[\"ml_concept\"],\n",
    "    template=\"Turn the concept description of {ml_concept} and explain it to me like I'm five in 500 words\",\n",
    ")\n",
    "chain_two = LLMChain(llm=llm, prompt=second_prompt)"
   ]
  },
  {
   "cell_type": "code",
   "execution_count": 6,
   "metadata": {},
   "outputs": [
    {
     "name": "stdout",
     "output_type": "stream",
     "text": [
      "\n",
      "\n",
      "\u001b[1m> Entering new SimpleSequentialChain chain...\u001b[0m\n",
      "\u001b[36;1m\u001b[1;3m\n",
      "An autoencoder is a type of artificial neural network used to learn efficient data representations in an unsupervised manner. It works by learning to reconstruct its input, encoding the input into a latent space and then decoding the latent representation back to an output that is as close as possible to the original input.\u001b[0m\n",
      "\u001b[33;1m\u001b[1;3m\n",
      "\n",
      "An autoencoder is like a machine that helps computers learn about the world. It is a type of artificial neural network, which is a type of computer program that can learn from experience.\n",
      "\n",
      "An autoencoder works by taking some input, like a picture of a dog, and then trying to make the output look the same as the input. It does this by breaking the picture down into small pieces and then putting them back together in a slightly different way. This process is called “encoding”.\n",
      "\n",
      "The autoencoder then takes the encoded image and tries to make it look as close as possible to the original input. This process is called “decoding”. The autoencoder is then able to learn how to make the picture look more like the original input.\n",
      "\n",
      "This type of artificial neural network is called an unsupervised autoencoder because it does not need someone to tell it what the correct output should look like. It is able to figure it out by itself.\n",
      "\n",
      "The autoencoder creates a “latent space”, which is a place where the data is stored in a way that the computer can understand. This way, the autoenc\u001b[0m\n",
      "\n",
      "\u001b[1m> Finished chain.\u001b[0m\n",
      "\n",
      "\n",
      "An autoencoder is like a machine that helps computers learn about the world. It is a type of artificial neural network, which is a type of computer program that can learn from experience.\n",
      "\n",
      "An autoencoder works by taking some input, like a picture of a dog, and then trying to make the output look the same as the input. It does this by breaking the picture down into small pieces and then putting them back together in a slightly different way. This process is called “encoding”.\n",
      "\n",
      "The autoencoder then takes the encoded image and tries to make it look as close as possible to the original input. This process is called “decoding”. The autoencoder is then able to learn how to make the picture look more like the original input.\n",
      "\n",
      "This type of artificial neural network is called an unsupervised autoencoder because it does not need someone to tell it what the correct output should look like. It is able to figure it out by itself.\n",
      "\n",
      "The autoencoder creates a “latent space”, which is a place where the data is stored in a way that the computer can understand. This way, the autoenc\n"
     ]
    }
   ],
   "source": [
    "# Define a sequential chain using the two chains above: the second chain takes the output of the first chain as input\n",
    "\n",
    "from langchain.chains import SimpleSequentialChain\n",
    "overall_chain = SimpleSequentialChain(chains=[chain, chain_two], verbose=True)\n",
    "\n",
    "# Run the chain specifying only the input variable for the first chain.\n",
    "explanation = overall_chain.run(\"autoencoder\")\n",
    "print(explanation)"
   ]
  }
 ],
 "metadata": {
  "kernelspec": {
   "display_name": "base",
   "language": "python",
   "name": "python3"
  },
  "language_info": {
   "codemirror_mode": {
    "name": "ipython",
    "version": 3
   },
   "file_extension": ".py",
   "mimetype": "text/x-python",
   "name": "python",
   "nbconvert_exporter": "python",
   "pygments_lexer": "ipython3",
   "version": "3.11.5"
  }
 },
 "nbformat": 4,
 "nbformat_minor": 2
}
